{
  "cells": [
    {
      "cell_type": "code",
      "execution_count": null,
      "metadata": {
        "id": "qZtGLCpfu5Fp",
        "outputId": "1bc8254c-2e7a-4a3c-8c03-4f3b6c5d5c41"
      },
      "outputs": [
        {
          "data": {
            "text/plain": [
              "'2.4.1'"
            ]
          },
          "execution_count": 1,
          "metadata": {},
          "output_type": "execute_result"
        }
      ],
      "source": [
        "import tensorflow as tf\n",
        "from keras.preprocessing.image import ImageDataGenerator\n",
        "tf.__version__"
      ]
    },
    {
      "cell_type": "code",
      "execution_count": null,
      "metadata": {
        "id": "itxMGSNNu5Fr",
        "outputId": "534b38bc-4429-493f-b131-165d98912b19"
      },
      "outputs": [
        {
          "name": "stdout",
          "output_type": "stream",
          "text": [
            "Found 217 images belonging to 4 classes.\n"
          ]
        }
      ],
      "source": [
        "train_datagen = ImageDataGenerator(rescale = 1./255,\n",
        "                                   shear_range = 0.2,\n",
        "                                   zoom_range = 0.2,\n",
        "                                   horizontal_flip = True)\n",
        "training_set = train_datagen.flow_from_directory(r'C:\\Users\\Jishnuraj k\\Desktop\\VIT Winter Semester 2020-2021\\RBL\\Data\\Mydata\\MyData\\train',\n",
        "                                                 target_size = (222, 222),\n",
        "                                                 batch_size = 32,\n",
        "                                                 class_mode = 'categorical')\n"
      ]
    },
    {
      "cell_type": "code",
      "execution_count": null,
      "metadata": {
        "id": "VpMin-udu5Fr",
        "outputId": "ef282d9f-4ae9-4c97-f9ab-b31c09f8d54f"
      },
      "outputs": [
        {
          "name": "stdout",
          "output_type": "stream",
          "text": [
            "Found 43 images belonging to 4 classes.\n"
          ]
        }
      ],
      "source": [
        "test_datagen = ImageDataGenerator(rescale = 1./255)\n",
        "test_set = test_datagen.flow_from_directory(r'C:\\Users\\Jishnuraj k\\Desktop\\VIT Winter Semester 2020-2021\\RBL\\Data\\Mydata\\MyData\\test',\n",
        "                                            target_size = (222, 222),\n",
        "                                            batch_size = 32,\n",
        "                                            class_mode = 'categorical',\n",
        "                                           shuffle=False)\n"
      ]
    },
    {
      "cell_type": "code",
      "execution_count": null,
      "metadata": {
        "id": "to13nwjxu5Fs"
      },
      "outputs": [],
      "source": [
        "cnn = tf.keras.models.Sequential()\n",
        "\n",
        "cnn.add(tf.keras.layers.Conv2D(filters=32, kernel_size=3, activation='relu', input_shape=[222, 222, 3]))\n",
        "\n",
        "cnn.add(tf.keras.layers.AveragePooling2D(pool_size=2, strides=2))\n",
        "\n",
        "cnn.add(tf.keras.layers.Conv2D(filters=32, kernel_size=3, activation='relu'))\n",
        "cnn.add(tf.keras.layers.AveragePooling2D(pool_size=2, strides=2))\n",
        "\n",
        "cnn.add(tf.keras.layers.Flatten())\n",
        "\n",
        "cnn.add(tf.keras.layers.Dropout(0.2))\n",
        "\n",
        "\n",
        "cnn.add(tf.keras.layers.Dense(units=128, activation='relu'))\n",
        "\n",
        "cnn.add(tf.keras.layers.Dense(units=4, activation='softmax'))\n"
      ]
    },
    {
      "cell_type": "code",
      "execution_count": null,
      "metadata": {
        "id": "zT26JM6Tu5Fs"
      },
      "outputs": [],
      "source": [
        "# Compiling the CNN\n",
        "cnn.compile(optimizer = 'adam', loss = 'categorical_crossentropy', metrics = ['accuracy'])\n"
      ]
    },
    {
      "cell_type": "code",
      "execution_count": null,
      "metadata": {
        "id": "KEM9Y7eHu5Fs",
        "outputId": "8b61d5ff-b40b-4978-ba21-feade3fb6332"
      },
      "outputs": [
        {
          "name": "stdout",
          "output_type": "stream",
          "text": [
            "Epoch 1/25\n",
            "7/7 [==============================] - 19s 2s/step - loss: 2.5423 - accuracy: 0.6147 - val_loss: 0.7018 - val_accuracy: 0.8372\n",
            "Epoch 2/25\n",
            "7/7 [==============================] - 13s 1s/step - loss: 0.5432 - accuracy: 0.8711 - val_loss: 0.5969 - val_accuracy: 0.8372\n",
            "Epoch 3/25\n",
            "7/7 [==============================] - 15s 2s/step - loss: 0.4479 - accuracy: 0.8844 - val_loss: 0.5018 - val_accuracy: 0.8372\n",
            "Epoch 4/25\n",
            "7/7 [==============================] - 13s 1s/step - loss: 0.4726 - accuracy: 0.8655 - val_loss: 0.4431 - val_accuracy: 0.8605\n",
            "Epoch 5/25\n",
            "7/7 [==============================] - 10s 1s/step - loss: 0.3030 - accuracy: 0.9075 - val_loss: 0.4316 - val_accuracy: 0.9070\n",
            "Epoch 6/25\n",
            "7/7 [==============================] - 12s 1s/step - loss: 0.2993 - accuracy: 0.9047 - val_loss: 0.4279 - val_accuracy: 0.8605\n",
            "Epoch 7/25\n",
            "7/7 [==============================] - 12s 1s/step - loss: 0.2186 - accuracy: 0.9327 - val_loss: 0.4174 - val_accuracy: 0.8837\n",
            "Epoch 8/25\n",
            "7/7 [==============================] - 13s 2s/step - loss: 0.2054 - accuracy: 0.9184 - val_loss: 0.4269 - val_accuracy: 0.8837\n",
            "Epoch 9/25\n",
            "7/7 [==============================] - 11s 1s/step - loss: 0.2474 - accuracy: 0.9173 - val_loss: 0.4382 - val_accuracy: 0.8837\n",
            "Epoch 10/25\n",
            "7/7 [==============================] - 13s 2s/step - loss: 0.1867 - accuracy: 0.9460 - val_loss: 0.3865 - val_accuracy: 0.9070\n",
            "Epoch 11/25\n",
            "7/7 [==============================] - 10s 1s/step - loss: 0.2470 - accuracy: 0.8791 - val_loss: 0.3791 - val_accuracy: 0.8837\n",
            "Epoch 12/25\n",
            "7/7 [==============================] - 10s 1s/step - loss: 0.1935 - accuracy: 0.9193 - val_loss: 0.4221 - val_accuracy: 0.8605\n",
            "Epoch 13/25\n",
            "7/7 [==============================] - 10s 1s/step - loss: 0.2357 - accuracy: 0.9140 - val_loss: 0.4775 - val_accuracy: 0.8605\n",
            "Epoch 14/25\n",
            "7/7 [==============================] - 10s 1s/step - loss: 0.2943 - accuracy: 0.9149 - val_loss: 0.3925 - val_accuracy: 0.9070\n",
            "Epoch 15/25\n",
            "7/7 [==============================] - 12s 2s/step - loss: 0.2379 - accuracy: 0.9043 - val_loss: 0.4404 - val_accuracy: 0.9070\n",
            "Epoch 16/25\n",
            "7/7 [==============================] - 16s 2s/step - loss: 0.2749 - accuracy: 0.8760 - val_loss: 0.6863 - val_accuracy: 0.8605\n",
            "Epoch 17/25\n",
            "7/7 [==============================] - 19s 2s/step - loss: 0.1818 - accuracy: 0.9286 - val_loss: 0.4615 - val_accuracy: 0.9302\n",
            "Epoch 18/25\n",
            "7/7 [==============================] - 18s 2s/step - loss: 0.1760 - accuracy: 0.9279 - val_loss: 0.3347 - val_accuracy: 0.9302\n",
            "Epoch 19/25\n",
            "7/7 [==============================] - 19s 3s/step - loss: 0.1489 - accuracy: 0.9326 - val_loss: 0.3920 - val_accuracy: 0.9070\n",
            "Epoch 20/25\n",
            "7/7 [==============================] - 20s 3s/step - loss: 0.1185 - accuracy: 0.9696 - val_loss: 0.3946 - val_accuracy: 0.9070\n",
            "Epoch 21/25\n",
            "7/7 [==============================] - 17s 2s/step - loss: 0.1519 - accuracy: 0.9410 - val_loss: 0.4986 - val_accuracy: 0.9070\n",
            "Epoch 22/25\n",
            "7/7 [==============================] - 12s 2s/step - loss: 0.1262 - accuracy: 0.9768 - val_loss: 0.5097 - val_accuracy: 0.8837\n",
            "Epoch 23/25\n",
            "7/7 [==============================] - 13s 2s/step - loss: 0.1153 - accuracy: 0.9711 - val_loss: 0.4235 - val_accuracy: 0.9070\n",
            "Epoch 24/25\n",
            "7/7 [==============================] - 18s 2s/step - loss: 0.1742 - accuracy: 0.9383 - val_loss: 0.3747 - val_accuracy: 0.9070\n",
            "Epoch 25/25\n",
            "7/7 [==============================] - 13s 1s/step - loss: 0.0856 - accuracy: 0.9740 - val_loss: 0.4510 - val_accuracy: 0.9070\n"
          ]
        }
      ],
      "source": [
        "history=cnn.fit(x = training_set, validation_data = test_set, epochs = 25)"
      ]
    },
    {
      "cell_type": "code",
      "execution_count": null,
      "metadata": {
        "id": "3PflgMMau5Ft",
        "outputId": "d09deb67-a127-4499-ebdc-3db001134aa9"
      },
      "outputs": [
        {
          "name": "stdout",
          "output_type": "stream",
          "text": [
            "Model: \"sequential\"\n",
            "_________________________________________________________________\n",
            "Layer (type)                 Output Shape              Param #   \n",
            "=================================================================\n",
            "conv2d (Conv2D)              (None, 220, 220, 32)      896       \n",
            "_________________________________________________________________\n",
            "average_pooling2d (AveragePo (None, 110, 110, 32)      0         \n",
            "_________________________________________________________________\n",
            "conv2d_1 (Conv2D)            (None, 108, 108, 32)      9248      \n",
            "_________________________________________________________________\n",
            "average_pooling2d_1 (Average (None, 54, 54, 32)        0         \n",
            "_________________________________________________________________\n",
            "flatten (Flatten)            (None, 93312)             0         \n",
            "_________________________________________________________________\n",
            "dropout (Dropout)            (None, 93312)             0         \n",
            "_________________________________________________________________\n",
            "dense (Dense)                (None, 128)               11944064  \n",
            "_________________________________________________________________\n",
            "dense_1 (Dense)              (None, 4)                 516       \n",
            "=================================================================\n",
            "Total params: 11,954,724\n",
            "Trainable params: 11,954,724\n",
            "Non-trainable params: 0\n",
            "_________________________________________________________________\n"
          ]
        }
      ],
      "source": [
        "cnn.summary()"
      ]
    },
    {
      "cell_type": "code",
      "execution_count": null,
      "metadata": {
        "id": "QasTimj0u5Ft",
        "outputId": "7bfd8662-2c28-4900-e4a4-35498bf02b09"
      },
      "outputs": [
        {
          "data": {
            "image/png": "[encoded data removed]",
            "text/plain": [
              "<Figure size 432x288 with 1 Axes>"
            ]
          },
          "metadata": {
            "needs_background": "light"
          },
          "output_type": "display_data"
        }
      ],
      "source": [
        "import matplotlib.pyplot as plt\n",
        "loss_train = history.history['loss']\n",
        "loss_val = history.history['val_loss']\n",
        "epochs = range(1,26)\n",
        "plt.plot(epochs, loss_train, 'g', label='Training loss')\n",
        "plt.plot(epochs, loss_val, 'b', label='validation loss')\n",
        "plt.title('Training and Validation loss')\n",
        "plt.xlabel('Epochs')\n",
        "plt.ylabel('Loss')\n",
        "plt.legend()\n",
        "plt.show()"
      ]
    },
    {
      "cell_type": "code",
      "execution_count": null,
      "metadata": {
        "id": "HWgmLh_8u5Ft",
        "outputId": "629c6f79-3bed-4b8c-8a8c-c0a16bc8ca95"
      },
      "outputs": [
        {
          "data": {
            "image/png": "[encoded data removed]",
            "text/plain": [
              "<Figure size 432x288 with 1 Axes>"
            ]
          },
          "metadata": {
            "needs_background": "light"
          },
          "output_type": "display_data"
        }
      ],
      "source": [
        "loss_train = history.history['accuracy']\n",
        "loss_val = history.history['val_accuracy']\n",
        "epochs = range(1,26)\n",
        "plt.plot(epochs, loss_train, 'g', label='Training accuracy')\n",
        "plt.plot(epochs, loss_val, 'b', label='validation accuracy')\n",
        "plt.title('Training and Validation accuracy')\n",
        "plt.xlabel('Epochs')\n",
        "plt.ylabel('Accuracy')\n",
        "plt.legend()\n",
        "plt.show()"
      ]
    },
    {
      "cell_type": "code",
      "execution_count": null,
      "metadata": {
        "id": "1IRMfOGcu5Ft"
      },
      "outputs": [],
      "source": [
        "import itertools  \n",
        "def plot_confusion_matrix(cm, classes, normalize=True, title='Confusion matrix', cmap=plt.cm.Blues):\n",
        "\n",
        "    \"\"\"\n",
        "\n",
        "    This function prints and plots the confusion matrix.\n",
        "\n",
        "    Normalization can be applied by setting `normalize=True`.\n",
        "\n",
        "    \"\"\"\n",
        "\n",
        "    plt.figure(figsize=(10,10))\n",
        "\n",
        "\n",
        "\n",
        "    plt.imshow(cm, interpolation='nearest', cmap=cmap)\n",
        "\n",
        "    plt.title(title)\n",
        "\n",
        "    plt.colorbar()\n",
        "\n",
        "\n",
        "\n",
        "    tick_marks = np.arange(len(classes))\n",
        "\n",
        "    plt.xticks(tick_marks, classes, rotation=45)\n",
        "\n",
        "    plt.yticks(tick_marks, classes)\n",
        "\n",
        "\n",
        "\n",
        "    if normalize:\n",
        "\n",
        "        cm = cm.astype('float') / cm.sum(axis=1)[:, np.newaxis]\n",
        "\n",
        "        cm = np.around(cm, decimals=2)\n",
        "\n",
        "        cm[np.isnan(cm)] = 0.0\n",
        "\n",
        "        print(\"Normalized confusion matrix\")\n",
        "\n",
        "    else:\n",
        "\n",
        "        print('Confusion matrix, without normalization')\n",
        "\n",
        "    thresh = cm.max() / 2.\n",
        "\n",
        "    for i, j in itertools.product(range(cm.shape[0]), range(cm.shape[1])):\n",
        "\n",
        "        plt.text(j, i, cm[i, j],\n",
        "\n",
        "                 horizontalalignment=\"center\",\n",
        "\n",
        "                 color=\"white\" if cm[i, j] > thresh else \"black\")\n",
        "\n",
        "    plt.tight_layout()\n",
        "\n",
        "    plt.ylabel('True label')\n",
        "\n",
        "    plt.xlabel('Predicted label')"
      ]
    },
    {
      "cell_type": "code",
      "execution_count": null,
      "metadata": {
        "id": "YGmiFDxsu5Fu",
        "outputId": "fb9553ac-7b79-43db-b5c3-215340093f7a"
      },
      "outputs": [
        {
          "name": "stderr",
          "output_type": "stream",
          "text": [
            "C:\\Users\\Jishnuraj k\\anaconda3\\lib\\site-packages\\tensorflow\\python\\keras\\engine\\training.py:1905: UserWarning: `Model.predict_generator` is deprecated and will be removed in a future version. Please use `Model.predict`, which supports generators.\n",
            "  warnings.warn('`Model.predict_generator` is deprecated and '\n"
          ]
        },
        {
          "name": "stdout",
          "output_type": "stream",
          "text": [
            "Confusion Matrix\n",
            "Normalized confusion matrix\n"
          ]
        },
        {
          "data": {
            "image/png": "[encoded data removed]",
            "text/plain": [
              "<Figure size 720x720 with 2 Axes>"
            ]
          },
          "metadata": {
            "needs_background": "light"
          },
          "output_type": "display_data"
        }
      ],
      "source": [
        "import numpy as np\n",
        "from sklearn.metrics import classification_report, confusion_matrix\n",
        "#Confution Matrix and Classification Report\n",
        "\n",
        "target_names = []\n",
        "\n",
        "for key in test_set.class_indices:\n",
        "\n",
        "    target_names.append(key)\n",
        "\n",
        "Y_pred = cnn.predict_generator(test_set)\n",
        "\n",
        "y_pred = np.argmax(Y_pred, axis=1)\n",
        "\n",
        "print('Confusion Matrix')\n",
        "\n",
        "cm = confusion_matrix(test_set.classes, y_pred)\n",
        "\n",
        "plot_confusion_matrix(cm, target_names, title='Confusion Matrix')"
      ]
    },
    {
      "cell_type": "code",
      "execution_count": null,
      "metadata": {
        "id": "s0Z2BFwxu5Fu",
        "outputId": "3cab31cb-97bc-4da4-9293-3ffa007bac9a"
      },
      "outputs": [
        {
          "name": "stderr",
          "output_type": "stream",
          "text": [
            "C:\\Users\\Jishnuraj k\\anaconda3\\lib\\site-packages\\tensorflow\\python\\keras\\engine\\training.py:1877: UserWarning: `Model.evaluate_generator` is deprecated and will be removed in a future version. Please use `Model.evaluate`, which supports generators.\n",
            "  warnings.warn('`Model.evaluate_generator` is deprecated and '\n"
          ]
        },
        {
          "name": "stdout",
          "output_type": "stream",
          "text": [
            "WARNING:tensorflow:Your input ran out of data; interrupting training. Make sure that your dataset or generator can generate at least `steps_per_epoch * epochs` batches (in this case, 32 batches). You may need to use the repeat() function when building your dataset.\n",
            "[INFO] accuracy: 90.70%\n",
            "[INFO] Loss:  0.45100849866867065\n"
          ]
        }
      ],
      "source": [
        "test_score = cnn.evaluate_generator(test_set, 32)\n",
        "\n",
        "\n",
        "\n",
        "print(\"[INFO] accuracy: {:.2f}%\".format(test_score[1] * 100)) \n",
        "\n",
        "print(\"[INFO] Loss: \",test_score[0])"
      ]
    },
    {
      "cell_type": "code",
      "execution_count": null,
      "metadata": {
        "id": "XcWlj35wu5Fu"
      },
      "outputs": [],
      "source": []
    }
  ],
  "metadata": {
    "kernelspec": {
      "display_name": "Python 3",
      "language": "python",
      "name": "python3"
    },
    "language_info": {
      "codemirror_mode": {
        "name": "ipython",
        "version": 3
      },
      "file_extension": ".py",
      "mimetype": "text/x-python",
      "name": "python",
      "nbconvert_exporter": "python",
      "pygments_lexer": "ipython3",
      "version": "3.8.5"
    },
    "colab": {
      "provenance": []
    }
  },
  "nbformat": 4,
  "nbformat_minor": 0
}