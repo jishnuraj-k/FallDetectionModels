{
  "cells": [
    {
      "cell_type": "code",
      "execution_count": null,
      "metadata": {
        "id": "d6AobybDvH47",
        "outputId": "1f09898f-8cd9-4aac-8edf-b9141417239a"
      },
      "outputs": [
        {
          "data": {
            "text/plain": [
              "'2.4.1'"
            ]
          },
          "execution_count": 1,
          "metadata": {},
          "output_type": "execute_result"
        }
      ],
      "source": [
        "import tensorflow as tf\n",
        "from keras.preprocessing.image import ImageDataGenerator\n",
        "tf.__version__"
      ]
    },
    {
      "cell_type": "code",
      "execution_count": null,
      "metadata": {
        "id": "YjdRasiEvH48",
        "outputId": "69ad18df-4fac-4e81-a0c6-efaa31a1d1f8"
      },
      "outputs": [
        {
          "name": "stdout",
          "output_type": "stream",
          "text": [
            "Found 217 images belonging to 4 classes.\n"
          ]
        }
      ],
      "source": [
        "train_datagen = ImageDataGenerator(rescale = 1./255,\n",
        "                                   shear_range = 0.2,\n",
        "                                   zoom_range = 0.2,\n",
        "                                   horizontal_flip = True)\n",
        "training_set = train_datagen.flow_from_directory(r'C:\\Users\\Jishnuraj k\\Desktop\\VIT Winter Semester 2020-2021\\RBL\\Data\\Mydata\\MyData\\train',\n",
        "                                                 target_size = (64, 64),\n",
        "                                                 batch_size = 32,\n",
        "                                                 class_mode = 'categorical')\n"
      ]
    },
    {
      "cell_type": "code",
      "execution_count": null,
      "metadata": {
        "id": "niZ1or7JvH49",
        "outputId": "2a444521-af17-4deb-db4d-16e9bd2594e1"
      },
      "outputs": [
        {
          "name": "stdout",
          "output_type": "stream",
          "text": [
            "Found 43 images belonging to 4 classes.\n"
          ]
        }
      ],
      "source": [
        "test_datagen = ImageDataGenerator(rescale = 1./255)\n",
        "test_set = test_datagen.flow_from_directory(r'C:\\Users\\Jishnuraj k\\Desktop\\VIT Winter Semester 2020-2021\\RBL\\Data\\Mydata\\MyData\\test',\n",
        "                                            target_size = (64, 64),\n",
        "                                            batch_size = 32,\n",
        "                                            class_mode = 'categorical',\n",
        "                                           shuffle=False)\n"
      ]
    },
    {
      "cell_type": "code",
      "execution_count": null,
      "metadata": {
        "id": "-fuGGP_FvH49"
      },
      "outputs": [],
      "source": [
        "cnn = tf.keras.models.Sequential()\n",
        "\n",
        "cnn.add(tf.keras.layers.Conv2D(filters=32, kernel_size=3, activation='relu', input_shape=[64, 64, 3]))\n",
        "cnn.add(tf.keras.layers.Conv2D(filters=32, kernel_size=3, activation='relu'))\n",
        "cnn.add(tf.keras.layers.MaxPool2D(pool_size=2, strides=2))\n",
        "cnn.add(tf.keras.layers.Dropout(0.2))\n",
        "\n",
        "cnn.add(tf.keras.layers.Conv2D(filters=32, kernel_size=3, activation='relu'))\n",
        "cnn.add(tf.keras.layers.Conv2D(filters=32, kernel_size=3, activation='relu'))\n",
        "cnn.add(tf.keras.layers.MaxPool2D(pool_size=2, strides=2))\n",
        "cnn.add(tf.keras.layers.Dropout(0.2))\n",
        "\n",
        "cnn.add(tf.keras.layers.Conv2D(filters=32, kernel_size=3, activation='relu'))\n",
        "cnn.add(tf.keras.layers.Conv2D(filters=32, kernel_size=3, activation='relu'))\n",
        "cnn.add(tf.keras.layers.MaxPool2D(pool_size=2, strides=2))\n",
        "cnn.add(tf.keras.layers.Dropout(0.2))\n",
        "\n",
        "cnn.add(tf.keras.layers.Flatten())\n",
        "\n",
        "\n",
        "cnn.add(tf.keras.layers.Dense(units=128, activation='relu'))\n",
        "\n",
        "cnn.add(tf.keras.layers.Dense(units=4, activation='softmax'))\n"
      ]
    },
    {
      "cell_type": "code",
      "execution_count": null,
      "metadata": {
        "id": "dCIMrPztvH49"
      },
      "outputs": [],
      "source": [
        "# Compiling the CNN\n",
        "cnn.compile(optimizer = 'adam', loss = 'categorical_crossentropy', metrics = ['accuracy'])\n"
      ]
    },
    {
      "cell_type": "code",
      "execution_count": null,
      "metadata": {
        "id": "Jl-9iRAavH49",
        "outputId": "e4ccd608-3484-48f5-cbed-50a49b1a77ca"
      },
      "outputs": [
        {
          "name": "stdout",
          "output_type": "stream",
          "text": [
            "Epoch 1/25\n",
            "7/7 [==============================] - 10s 1s/step - loss: 1.0217 - accuracy: 0.7678 - val_loss: 0.6341 - val_accuracy: 0.8372\n",
            "Epoch 2/25\n",
            "7/7 [==============================] - 4s 548ms/step - loss: 0.6584 - accuracy: 0.8573 - val_loss: 0.8446 - val_accuracy: 0.8372\n",
            "Epoch 3/25\n",
            "7/7 [==============================] - 4s 577ms/step - loss: 0.5924 - accuracy: 0.8645 - val_loss: 0.6132 - val_accuracy: 0.8372\n",
            "Epoch 4/25\n",
            "7/7 [==============================] - 4s 559ms/step - loss: 0.4954 - accuracy: 0.8845 - val_loss: 0.7152 - val_accuracy: 0.8372\n",
            "Epoch 5/25\n",
            "7/7 [==============================] - 4s 629ms/step - loss: 0.5639 - accuracy: 0.8579 - val_loss: 0.6259 - val_accuracy: 0.8372\n",
            "Epoch 6/25\n",
            "7/7 [==============================] - 4s 629ms/step - loss: 0.5167 - accuracy: 0.8743 - val_loss: 0.6496 - val_accuracy: 0.8372\n",
            "Epoch 7/25\n",
            "7/7 [==============================] - 4s 582ms/step - loss: 0.6219 - accuracy: 0.8403 - val_loss: 0.6376 - val_accuracy: 0.8372\n",
            "Epoch 8/25\n",
            "7/7 [==============================] - 5s 579ms/step - loss: 0.5379 - accuracy: 0.8655 - val_loss: 0.6313 - val_accuracy: 0.8372\n",
            "Epoch 9/25\n",
            "7/7 [==============================] - 4s 457ms/step - loss: 0.4799 - accuracy: 0.8882 - val_loss: 0.6632 - val_accuracy: 0.8372\n",
            "Epoch 10/25\n",
            "7/7 [==============================] - 4s 558ms/step - loss: 0.5227 - accuracy: 0.8692 - val_loss: 0.6257 - val_accuracy: 0.8372\n",
            "Epoch 11/25\n",
            "7/7 [==============================] - 4s 570ms/step - loss: 0.5094 - accuracy: 0.8700 - val_loss: 0.6639 - val_accuracy: 0.8372\n",
            "Epoch 12/25\n",
            "7/7 [==============================] - 4s 574ms/step - loss: 0.5602 - accuracy: 0.8528 - val_loss: 0.6117 - val_accuracy: 0.8372\n",
            "Epoch 13/25\n",
            "7/7 [==============================] - 4s 489ms/step - loss: 0.4827 - accuracy: 0.8783 - val_loss: 0.6963 - val_accuracy: 0.8372\n",
            "Epoch 14/25\n",
            "7/7 [==============================] - 5s 646ms/step - loss: 0.5491 - accuracy: 0.8604 - val_loss: 0.6037 - val_accuracy: 0.8372\n",
            "Epoch 15/25\n",
            "7/7 [==============================] - 5s 610ms/step - loss: 0.6015 - accuracy: 0.8438 - val_loss: 0.6065 - val_accuracy: 0.8372\n",
            "Epoch 16/25\n",
            "7/7 [==============================] - 4s 624ms/step - loss: 0.4660 - accuracy: 0.8774 - val_loss: 0.6646 - val_accuracy: 0.8372\n",
            "Epoch 17/25\n",
            "7/7 [==============================] - 4s 509ms/step - loss: 0.4909 - accuracy: 0.8903 - val_loss: 0.5873 - val_accuracy: 0.8372\n",
            "Epoch 18/25\n",
            "7/7 [==============================] - 4s 597ms/step - loss: 0.4818 - accuracy: 0.8808 - val_loss: 0.6378 - val_accuracy: 0.8372\n",
            "Epoch 19/25\n",
            "7/7 [==============================] - 4s 629ms/step - loss: 0.5064 - accuracy: 0.8625 - val_loss: 0.5954 - val_accuracy: 0.8372\n",
            "Epoch 20/25\n",
            "7/7 [==============================] - 5s 647ms/step - loss: 0.4827 - accuracy: 0.8695 - val_loss: 0.5931 - val_accuracy: 0.8372\n",
            "Epoch 21/25\n",
            "7/7 [==============================] - 4s 604ms/step - loss: 0.5257 - accuracy: 0.8413 - val_loss: 0.5692 - val_accuracy: 0.8372\n",
            "Epoch 22/25\n",
            "7/7 [==============================] - 4s 449ms/step - loss: 0.4715 - accuracy: 0.8674 - val_loss: 0.7652 - val_accuracy: 0.8372\n",
            "Epoch 23/25\n",
            "7/7 [==============================] - 4s 611ms/step - loss: 0.5036 - accuracy: 0.8577 - val_loss: 0.5404 - val_accuracy: 0.8372\n",
            "Epoch 24/25\n",
            "7/7 [==============================] - 4s 611ms/step - loss: 0.4587 - accuracy: 0.8668 - val_loss: 0.5167 - val_accuracy: 0.8372\n",
            "Epoch 25/25\n",
            "7/7 [==============================] - 5s 640ms/step - loss: 0.4072 - accuracy: 0.8780 - val_loss: 0.4672 - val_accuracy: 0.8372\n"
          ]
        }
      ],
      "source": [
        "history=cnn.fit(x = training_set, validation_data = test_set, epochs = 25)"
      ]
    },
    {
      "cell_type": "code",
      "execution_count": null,
      "metadata": {
        "id": "vzElshMgvH49",
        "outputId": "2593d9da-c9d8-4d7c-ad7c-c8595357b466"
      },
      "outputs": [
        {
          "name": "stdout",
          "output_type": "stream",
          "text": [
            "Model: \"sequential\"\n",
            "_________________________________________________________________\n",
            "Layer (type)                 Output Shape              Param #   \n",
            "=================================================================\n",
            "conv2d (Conv2D)              (None, 62, 62, 32)        896       \n",
            "_________________________________________________________________\n",
            "conv2d_1 (Conv2D)            (None, 60, 60, 32)        9248      \n",
            "_________________________________________________________________\n",
            "max_pooling2d (MaxPooling2D) (None, 30, 30, 32)        0         \n",
            "_________________________________________________________________\n",
            "dropout (Dropout)            (None, 30, 30, 32)        0         \n",
            "_________________________________________________________________\n",
            "conv2d_2 (Conv2D)            (None, 28, 28, 32)        9248      \n",
            "_________________________________________________________________\n",
            "conv2d_3 (Conv2D)            (None, 26, 26, 32)        9248      \n",
            "_________________________________________________________________\n",
            "max_pooling2d_1 (MaxPooling2 (None, 13, 13, 32)        0         \n",
            "_________________________________________________________________\n",
            "dropout_1 (Dropout)          (None, 13, 13, 32)        0         \n",
            "_________________________________________________________________\n",
            "conv2d_4 (Conv2D)            (None, 11, 11, 32)        9248      \n",
            "_________________________________________________________________\n",
            "conv2d_5 (Conv2D)            (None, 9, 9, 32)          9248      \n",
            "_________________________________________________________________\n",
            "max_pooling2d_2 (MaxPooling2 (None, 4, 4, 32)          0         \n",
            "_________________________________________________________________\n",
            "dropout_2 (Dropout)          (None, 4, 4, 32)          0         \n",
            "_________________________________________________________________\n",
            "flatten (Flatten)            (None, 512)               0         \n",
            "_________________________________________________________________\n",
            "dense (Dense)                (None, 128)               65664     \n",
            "_________________________________________________________________\n",
            "dense_1 (Dense)              (None, 4)                 516       \n",
            "=================================================================\n",
            "Total params: 113,316\n",
            "Trainable params: 113,316\n",
            "Non-trainable params: 0\n",
            "_________________________________________________________________\n"
          ]
        }
      ],
      "source": [
        "cnn.summary()"
      ]
    },
    {
      "cell_type": "code",
      "execution_count": null,
      "metadata": {
        "id": "616eFPlVvH49",
        "outputId": "ff96d92f-f39a-490c-e15c-831b497eaa84"
      },
      "outputs": [
        {
          "data": {
            "image/png": "[encoded data removed]",
            "text/plain": [
              "<Figure size 432x288 with 1 Axes>"
            ]
          },
          "metadata": {
            "needs_background": "light"
          },
          "output_type": "display_data"
        }
      ],
      "source": [
        "import matplotlib.pyplot as plt\n",
        "loss_train = history.history['loss']\n",
        "loss_val = history.history['val_loss']\n",
        "epochs = range(1,26)\n",
        "plt.plot(epochs, loss_train, 'g', label='Training loss')\n",
        "plt.plot(epochs, loss_val, 'b', label='validation loss')\n",
        "plt.title('Training and Validation loss')\n",
        "plt.xlabel('Epochs')\n",
        "plt.ylabel('Loss')\n",
        "plt.legend()\n",
        "plt.show()"
      ]
    },
    {
      "cell_type": "code",
      "execution_count": null,
      "metadata": {
        "id": "t3LI3Q6XvH4-",
        "outputId": "da47c21c-0a47-4fcb-89a5-197c31bcb1c0"
      },
      "outputs": [
        {
          "data": {
            "image/png": "[encoded data removed]",
            "text/plain": [
              "<Figure size 432x288 with 1 Axes>"
            ]
          },
          "metadata": {
            "needs_background": "light"
          },
          "output_type": "display_data"
        }
      ],
      "source": [
        "loss_train = history.history['accuracy']\n",
        "loss_val = history.history['val_accuracy']\n",
        "epochs = range(1,26)\n",
        "plt.plot(epochs, loss_train, 'g', label='Training accuracy')\n",
        "plt.plot(epochs, loss_val, 'b', label='validation accuracy')\n",
        "plt.title('Training and Validation accuracy')\n",
        "plt.xlabel('Epochs')\n",
        "plt.ylabel('Accuracy')\n",
        "plt.legend()\n",
        "plt.show()"
      ]
    },
    {
      "cell_type": "code",
      "execution_count": null,
      "metadata": {
        "id": "5RzvURaHvH4-"
      },
      "outputs": [],
      "source": [
        "import itertools  \n",
        "def plot_confusion_matrix(cm, classes, normalize=True, title='Confusion matrix', cmap=plt.cm.Blues):\n",
        "\n",
        "    \"\"\"\n",
        "\n",
        "    This function prints and plots the confusion matrix.\n",
        "\n",
        "    Normalization can be applied by setting `normalize=True`.\n",
        "\n",
        "    \"\"\"\n",
        "\n",
        "    plt.figure(figsize=(10,10))\n",
        "\n",
        "\n",
        "\n",
        "    plt.imshow(cm, interpolation='nearest', cmap=cmap)\n",
        "\n",
        "    plt.title(title)\n",
        "\n",
        "    plt.colorbar()\n",
        "\n",
        "\n",
        "\n",
        "    tick_marks = np.arange(len(classes))\n",
        "\n",
        "    plt.xticks(tick_marks, classes, rotation=45)\n",
        "\n",
        "    plt.yticks(tick_marks, classes)\n",
        "\n",
        "\n",
        "\n",
        "    if normalize:\n",
        "\n",
        "        cm = cm.astype('float') / cm.sum(axis=1)[:, np.newaxis]\n",
        "\n",
        "        cm = np.around(cm, decimals=2)\n",
        "\n",
        "        cm[np.isnan(cm)] = 0.0\n",
        "\n",
        "        print(\"Normalized confusion matrix\")\n",
        "\n",
        "    else:\n",
        "\n",
        "        print('Confusion matrix, without normalization')\n",
        "\n",
        "    thresh = cm.max() / 2.\n",
        "\n",
        "    for i, j in itertools.product(range(cm.shape[0]), range(cm.shape[1])):\n",
        "\n",
        "        plt.text(j, i, cm[i, j],\n",
        "\n",
        "                 horizontalalignment=\"center\",\n",
        "\n",
        "                 color=\"white\" if cm[i, j] > thresh else \"black\")\n",
        "\n",
        "    plt.tight_layout()\n",
        "\n",
        "    plt.ylabel('True label')\n",
        "\n",
        "    plt.xlabel('Predicted label')"
      ]
    },
    {
      "cell_type": "code",
      "execution_count": null,
      "metadata": {
        "id": "HoJ7tKX9vH4-",
        "outputId": "34845ff6-4260-44bc-c87c-38bb8815b931"
      },
      "outputs": [
        {
          "name": "stderr",
          "output_type": "stream",
          "text": [
            "C:\\Users\\Jishnuraj k\\anaconda3\\lib\\site-packages\\tensorflow\\python\\keras\\engine\\training.py:1905: UserWarning: `Model.predict_generator` is deprecated and will be removed in a future version. Please use `Model.predict`, which supports generators.\n",
            "  warnings.warn('`Model.predict_generator` is deprecated and '\n"
          ]
        },
        {
          "name": "stdout",
          "output_type": "stream",
          "text": [
            "Confusion Matrix\n",
            "Normalized confusion matrix\n"
          ]
        },
        {
          "data": {
            "image/png": "[encoded data removed]",
            "text/plain": [
              "<Figure size 720x720 with 2 Axes>"
            ]
          },
          "metadata": {
            "needs_background": "light"
          },
          "output_type": "display_data"
        }
      ],
      "source": [
        "import numpy as np\n",
        "from sklearn.metrics import classification_report, confusion_matrix\n",
        "#Confution Matrix and Classification Report\n",
        "\n",
        "target_names = []\n",
        "\n",
        "for key in test_set.class_indices:\n",
        "\n",
        "    target_names.append(key)\n",
        "\n",
        "Y_pred = cnn.predict_generator(test_set)\n",
        "\n",
        "y_pred = np.argmax(Y_pred, axis=1)\n",
        "\n",
        "print('Confusion Matrix')\n",
        "\n",
        "cm = confusion_matrix(test_set.classes, y_pred)\n",
        "\n",
        "plot_confusion_matrix(cm, target_names, title='Confusion Matrix')"
      ]
    },
    {
      "cell_type": "code",
      "execution_count": null,
      "metadata": {
        "id": "EQ6Mwq5IvH4-",
        "outputId": "57d0b4ee-3ad6-46dd-e687-70c8fafb5592"
      },
      "outputs": [
        {
          "name": "stderr",
          "output_type": "stream",
          "text": [
            "C:\\Users\\Jishnuraj k\\anaconda3\\lib\\site-packages\\tensorflow\\python\\keras\\engine\\training.py:1877: UserWarning: `Model.evaluate_generator` is deprecated and will be removed in a future version. Please use `Model.evaluate`, which supports generators.\n",
            "  warnings.warn('`Model.evaluate_generator` is deprecated and '\n"
          ]
        },
        {
          "name": "stdout",
          "output_type": "stream",
          "text": [
            "WARNING:tensorflow:Your input ran out of data; interrupting training. Make sure that your dataset or generator can generate at least `steps_per_epoch * epochs` batches (in this case, 32 batches). You may need to use the repeat() function when building your dataset.\n",
            "[INFO] accuracy: 83.72%\n",
            "[INFO] Loss:  0.46723708510398865\n"
          ]
        }
      ],
      "source": [
        "test_score = cnn.evaluate_generator(test_set, 32)\n",
        "\n",
        "\n",
        "\n",
        "print(\"[INFO] accuracy: {:.2f}%\".format(test_score[1] * 100)) \n",
        "\n",
        "print(\"[INFO] Loss: \",test_score[0])"
      ]
    },
    {
      "cell_type": "code",
      "execution_count": null,
      "metadata": {
        "id": "8oSqUYX9vH4-"
      },
      "outputs": [],
      "source": []
    }
  ],
  "metadata": {
    "kernelspec": {
      "display_name": "Python 3",
      "language": "python",
      "name": "python3"
    },
    "language_info": {
      "codemirror_mode": {
        "name": "ipython",
        "version": 3
      },
      "file_extension": ".py",
      "mimetype": "text/x-python",
      "name": "python",
      "nbconvert_exporter": "python",
      "pygments_lexer": "ipython3",
      "version": "3.8.5"
    },
    "colab": {
      "provenance": []
    }
  },
  "nbformat": 4,
  "nbformat_minor": 0
}