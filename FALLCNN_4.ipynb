{
  "cells": [
    {
      "cell_type": "code",
      "execution_count": null,
      "metadata": {
        "id": "k0FwxYc6vcdc",
        "outputId": "59d4fd52-fe84-4a87-bdc3-ded4a3fa7ff2"
      },
      "outputs": [
        {
          "data": {
            "text/plain": [
              "'2.4.1'"
            ]
          },
          "execution_count": 1,
          "metadata": {},
          "output_type": "execute_result"
        }
      ],
      "source": [
        "import tensorflow as tf\n",
        "from keras.preprocessing.image import ImageDataGenerator\n",
        "tf.__version__"
      ]
    },
    {
      "cell_type": "code",
      "execution_count": null,
      "metadata": {
        "id": "l01eDujmvcdd",
        "outputId": "56086c43-8458-4a4a-8cac-1fe8b913f44c"
      },
      "outputs": [
        {
          "name": "stdout",
          "output_type": "stream",
          "text": [
            "Found 217 images belonging to 4 classes.\n"
          ]
        }
      ],
      "source": [
        "train_datagen = ImageDataGenerator(rescale = 1./255,\n",
        "                                   shear_range = 0.2,\n",
        "                                   zoom_range = 0.2,\n",
        "                                   horizontal_flip = True)\n",
        "training_set = train_datagen.flow_from_directory(r'C:\\Users\\Jishnuraj k\\Desktop\\VIT Winter Semester 2020-2021\\RBL\\Data\\Mydata\\MyData\\train',\n",
        "                                                 target_size = (220, 220),\n",
        "                                                 batch_size = 32,\n",
        "                                                 class_mode = 'categorical')\n"
      ]
    },
    {
      "cell_type": "code",
      "execution_count": null,
      "metadata": {
        "id": "j_dhMIo7vcde",
        "outputId": "e1ff2530-971f-4165-92f1-b92c8e737cd3"
      },
      "outputs": [
        {
          "name": "stdout",
          "output_type": "stream",
          "text": [
            "Found 43 images belonging to 4 classes.\n"
          ]
        }
      ],
      "source": [
        "test_datagen = ImageDataGenerator(rescale = 1./255)\n",
        "test_set = test_datagen.flow_from_directory(r'C:\\Users\\Jishnuraj k\\Desktop\\VIT Winter Semester 2020-2021\\RBL\\Data\\Mydata\\MyData\\test',\n",
        "                                            target_size = (220, 220),\n",
        "                                            batch_size = 32,\n",
        "                                            class_mode = 'categorical',\n",
        "                                           shuffle=False)\n"
      ]
    },
    {
      "cell_type": "code",
      "execution_count": null,
      "metadata": {
        "id": "Jv4V1_2cvcde"
      },
      "outputs": [],
      "source": [
        "cnn = tf.keras.models.Sequential()\n",
        "\n",
        "cnn.add(tf.keras.layers.Conv2D(filters=32, kernel_size=3, activation='relu', input_shape=[220, 220, 3]))\n",
        "\n",
        "cnn.add(tf.keras.layers.MaxPool2D(pool_size=2, strides=2))\n",
        "\n",
        "cnn.add(tf.keras.layers.Conv2D(filters=32, kernel_size=3, activation='relu'))\n",
        "cnn.add(tf.keras.layers.AveragePooling2D(pool_size=2, strides=2))\n",
        "\n",
        "cnn.add(tf.keras.layers.Conv2D(filters=32, kernel_size=3, activation='relu'))\n",
        "cnn.add(tf.keras.layers.MaxPool2D(pool_size=2, strides=2))\n",
        "\n",
        "cnn.add(tf.keras.layers.Flatten())\n",
        "\n",
        "cnn.add(tf.keras.layers.Dropout(0.2))\n",
        "\n",
        "cnn.add(tf.keras.layers.Dense(units=128, activation='relu'))\n",
        "\n",
        "cnn.add(tf.keras.layers.Dense(units=4, activation='softmax'))\n"
      ]
    },
    {
      "cell_type": "code",
      "execution_count": null,
      "metadata": {
        "id": "y_bC_XAPvcdf"
      },
      "outputs": [],
      "source": [
        "# Compiling the CNN\n",
        "cnn.compile(optimizer = 'adam', loss = 'categorical_crossentropy', metrics = ['accuracy'])\n"
      ]
    },
    {
      "cell_type": "code",
      "execution_count": null,
      "metadata": {
        "id": "mG542Xa6vcdf",
        "outputId": "16d0fee2-6634-48be-edcb-a950f6dffbf1"
      },
      "outputs": [
        {
          "name": "stdout",
          "output_type": "stream",
          "text": [
            "Epoch 1/25\n",
            "7/7 [==============================] - 16s 2s/step - loss: 1.5061 - accuracy: 0.6279 - val_loss: 0.6442 - val_accuracy: 0.8372\n",
            "Epoch 2/25\n",
            "7/7 [==============================] - 12s 1s/step - loss: 0.5723 - accuracy: 0.8601 - val_loss: 0.6170 - val_accuracy: 0.8372\n",
            "Epoch 3/25\n",
            "7/7 [==============================] - 12s 2s/step - loss: 0.5918 - accuracy: 0.8641 - val_loss: 0.6340 - val_accuracy: 0.8372\n",
            "Epoch 4/25\n",
            "7/7 [==============================] - 12s 1s/step - loss: 0.4835 - accuracy: 0.8829 - val_loss: 0.5934 - val_accuracy: 0.8372\n",
            "Epoch 5/25\n",
            "7/7 [==============================] - 12s 1s/step - loss: 0.5238 - accuracy: 0.8713 - val_loss: 0.5919 - val_accuracy: 0.8372\n",
            "Epoch 6/25\n",
            "7/7 [==============================] - 13s 2s/step - loss: 0.4856 - accuracy: 0.8750 - val_loss: 0.5499 - val_accuracy: 0.8372\n",
            "Epoch 7/25\n",
            "7/7 [==============================] - 13s 1s/step - loss: 0.5204 - accuracy: 0.8476 - val_loss: 0.4968 - val_accuracy: 0.8372\n",
            "Epoch 8/25\n",
            "7/7 [==============================] - 13s 2s/step - loss: 0.5123 - accuracy: 0.8444 - val_loss: 0.5882 - val_accuracy: 0.8372\n",
            "Epoch 9/25\n",
            "7/7 [==============================] - 14s 2s/step - loss: 0.4322 - accuracy: 0.8828 - val_loss: 0.4673 - val_accuracy: 0.8605\n",
            "Epoch 10/25\n",
            "7/7 [==============================] - 14s 2s/step - loss: 0.3774 - accuracy: 0.8874 - val_loss: 0.4348 - val_accuracy: 0.8837\n",
            "Epoch 11/25\n",
            "7/7 [==============================] - 16s 2s/step - loss: 0.3637 - accuracy: 0.8883 - val_loss: 0.5131 - val_accuracy: 0.8372\n",
            "Epoch 12/25\n",
            "7/7 [==============================] - 12s 2s/step - loss: 0.3890 - accuracy: 0.8710 - val_loss: 0.3995 - val_accuracy: 0.8837\n",
            "Epoch 13/25\n",
            "7/7 [==============================] - 12s 1s/step - loss: 0.2834 - accuracy: 0.8921 - val_loss: 0.4872 - val_accuracy: 0.9070\n",
            "Epoch 14/25\n",
            "7/7 [==============================] - 12s 2s/step - loss: 0.3738 - accuracy: 0.8666 - val_loss: 0.6355 - val_accuracy: 0.8372\n",
            "Epoch 15/25\n",
            "7/7 [==============================] - 14s 2s/step - loss: 0.2752 - accuracy: 0.9220 - val_loss: 0.4361 - val_accuracy: 0.8837\n",
            "Epoch 16/25\n",
            "7/7 [==============================] - 14s 2s/step - loss: 0.3223 - accuracy: 0.8677 - val_loss: 0.4110 - val_accuracy: 0.8837\n",
            "Epoch 17/25\n",
            "7/7 [==============================] - 12s 1s/step - loss: 0.3388 - accuracy: 0.8511 - val_loss: 0.4113 - val_accuracy: 0.9070\n",
            "Epoch 18/25\n",
            "7/7 [==============================] - 10s 1s/step - loss: 0.2954 - accuracy: 0.9108 - val_loss: 0.4387 - val_accuracy: 0.9070\n",
            "Epoch 19/25\n",
            "7/7 [==============================] - 10s 1s/step - loss: 0.2571 - accuracy: 0.8861 - val_loss: 0.4764 - val_accuracy: 0.9070\n",
            "Epoch 20/25\n",
            "7/7 [==============================] - 10s 1s/step - loss: 0.2385 - accuracy: 0.9045 - val_loss: 0.5180 - val_accuracy: 0.9070\n",
            "Epoch 21/25\n",
            "7/7 [==============================] - 9s 1s/step - loss: 0.2144 - accuracy: 0.9125 - val_loss: 0.4885 - val_accuracy: 0.8837\n",
            "Epoch 22/25\n",
            "7/7 [==============================] - 9s 1s/step - loss: 0.1951 - accuracy: 0.9351 - val_loss: 0.4965 - val_accuracy: 0.9070\n",
            "Epoch 23/25\n",
            "7/7 [==============================] - 13s 2s/step - loss: 0.2288 - accuracy: 0.9041 - val_loss: 0.4476 - val_accuracy: 0.8837\n",
            "Epoch 24/25\n",
            "7/7 [==============================] - 11s 1s/step - loss: 0.1891 - accuracy: 0.9256 - val_loss: 0.4293 - val_accuracy: 0.9070\n",
            "Epoch 25/25\n",
            "7/7 [==============================] - 10s 1s/step - loss: 0.2210 - accuracy: 0.9090 - val_loss: 0.3580 - val_accuracy: 0.9070\n"
          ]
        }
      ],
      "source": [
        "history=cnn.fit(x = training_set, validation_data = test_set, epochs = 25)"
      ]
    },
    {
      "cell_type": "code",
      "execution_count": null,
      "metadata": {
        "id": "vcTD8Irqvcdg",
        "outputId": "395f70c1-3cf3-49ea-f061-3319de829ab3"
      },
      "outputs": [
        {
          "name": "stdout",
          "output_type": "stream",
          "text": [
            "Model: \"sequential_2\"\n",
            "_________________________________________________________________\n",
            "Layer (type)                 Output Shape              Param #   \n",
            "=================================================================\n",
            "conv2d_6 (Conv2D)            (None, 218, 218, 32)      896       \n",
            "_________________________________________________________________\n",
            "max_pooling2d_4 (MaxPooling2 (None, 109, 109, 32)      0         \n",
            "_________________________________________________________________\n",
            "conv2d_7 (Conv2D)            (None, 107, 107, 32)      9248      \n",
            "_________________________________________________________________\n",
            "average_pooling2d_2 (Average (None, 53, 53, 32)        0         \n",
            "_________________________________________________________________\n",
            "conv2d_8 (Conv2D)            (None, 51, 51, 32)        9248      \n",
            "_________________________________________________________________\n",
            "max_pooling2d_5 (MaxPooling2 (None, 25, 25, 32)        0         \n",
            "_________________________________________________________________\n",
            "flatten_2 (Flatten)          (None, 20000)             0         \n",
            "_________________________________________________________________\n",
            "dropout_2 (Dropout)          (None, 20000)             0         \n",
            "_________________________________________________________________\n",
            "dense_4 (Dense)              (None, 128)               2560128   \n",
            "_________________________________________________________________\n",
            "dense_5 (Dense)              (None, 4)                 516       \n",
            "=================================================================\n",
            "Total params: 2,580,036\n",
            "Trainable params: 2,580,036\n",
            "Non-trainable params: 0\n",
            "_________________________________________________________________\n"
          ]
        }
      ],
      "source": [
        "cnn.summary()"
      ]
    },
    {
      "cell_type": "code",
      "execution_count": null,
      "metadata": {
        "id": "dahGifvLvcdg",
        "outputId": "7e756d03-57ad-41ad-8209-ee337f2dabf8"
      },
      "outputs": [
        {
          "data": {
            "image/png": "[encoded data removed]",
            "text/plain": [
              "<Figure size 432x288 with 1 Axes>"
            ]
          },
          "metadata": {
            "needs_background": "light"
          },
          "output_type": "display_data"
        }
      ],
      "source": [
        "import matplotlib.pyplot as plt\n",
        "loss_train = history.history['loss']\n",
        "loss_val = history.history['val_loss']\n",
        "epochs = range(1,26)\n",
        "plt.plot(epochs, loss_train, 'g', label='Training loss')\n",
        "plt.plot(epochs, loss_val, 'b', label='validation loss')\n",
        "plt.title('Training and Validation loss')\n",
        "plt.xlabel('Epochs')\n",
        "plt.ylabel('Loss')\n",
        "plt.legend()\n",
        "plt.show()"
      ]
    },
    {
      "cell_type": "code",
      "execution_count": null,
      "metadata": {
        "id": "XntBgiDivcdg",
        "outputId": "4ba5a850-bed7-4ec3-e1bd-16fdd017bd85"
      },
      "outputs": [
        {
          "data": {
            "image/png": "[encoded data removed]",
            "text/plain": [
              "<Figure size 432x288 with 1 Axes>"
            ]
          },
          "metadata": {
            "needs_background": "light"
          },
          "output_type": "display_data"
        }
      ],
      "source": [
        "loss_train = history.history['accuracy']\n",
        "loss_val = history.history['val_accuracy']\n",
        "epochs = range(1,26)\n",
        "plt.plot(epochs, loss_train, 'g', label='Training accuracy')\n",
        "plt.plot(epochs, loss_val, 'b', label='validation accuracy')\n",
        "plt.title('Training and Validation accuracy')\n",
        "plt.xlabel('Epochs')\n",
        "plt.ylabel('Accuracy')\n",
        "plt.legend()\n",
        "plt.show()"
      ]
    },
    {
      "cell_type": "code",
      "execution_count": null,
      "metadata": {
        "id": "o5UHun65vcdh"
      },
      "outputs": [],
      "source": [
        "import itertools  \n",
        "def plot_confusion_matrix(cm, classes, normalize=True, title='Confusion matrix', cmap=plt.cm.Blues):\n",
        "\n",
        "    \"\"\"\n",
        "\n",
        "    This function prints and plots the confusion matrix.\n",
        "\n",
        "    Normalization can be applied by setting `normalize=True`.\n",
        "\n",
        "    \"\"\"\n",
        "\n",
        "    plt.figure(figsize=(10,10))\n",
        "\n",
        "\n",
        "\n",
        "    plt.imshow(cm, interpolation='nearest', cmap=cmap)\n",
        "\n",
        "    plt.title(title)\n",
        "\n",
        "    plt.colorbar()\n",
        "\n",
        "\n",
        "\n",
        "    tick_marks = np.arange(len(classes))\n",
        "\n",
        "    plt.xticks(tick_marks, classes, rotation=45)\n",
        "\n",
        "    plt.yticks(tick_marks, classes)\n",
        "\n",
        "\n",
        "\n",
        "    if normalize:\n",
        "\n",
        "        cm = cm.astype('float') / cm.sum(axis=1)[:, np.newaxis]\n",
        "\n",
        "        cm = np.around(cm, decimals=2)\n",
        "\n",
        "        cm[np.isnan(cm)] = 0.0\n",
        "\n",
        "        print(\"Normalized confusion matrix\")\n",
        "\n",
        "    else:\n",
        "\n",
        "        print('Confusion matrix, without normalization')\n",
        "\n",
        "    thresh = cm.max() / 2.\n",
        "\n",
        "    for i, j in itertools.product(range(cm.shape[0]), range(cm.shape[1])):\n",
        "\n",
        "        plt.text(j, i, cm[i, j],\n",
        "\n",
        "                 horizontalalignment=\"center\",\n",
        "\n",
        "                 color=\"white\" if cm[i, j] > thresh else \"black\")\n",
        "\n",
        "    plt.tight_layout()\n",
        "\n",
        "    plt.ylabel('True label')\n",
        "\n",
        "    plt.xlabel('Predicted label')"
      ]
    },
    {
      "cell_type": "code",
      "execution_count": null,
      "metadata": {
        "id": "knJ2CBRtvcdh",
        "outputId": "68c75379-42ad-4415-cdd0-1be5a189c2d7"
      },
      "outputs": [
        {
          "name": "stdout",
          "output_type": "stream",
          "text": [
            "Confusion Matrix\n",
            "Normalized confusion matrix\n"
          ]
        },
        {
          "data": {
            "image/png": "[encoded data removed]",
            "text/plain": [
              "<Figure size 720x720 with 2 Axes>"
            ]
          },
          "metadata": {
            "needs_background": "light"
          },
          "output_type": "display_data"
        }
      ],
      "source": [
        "import numpy as np\n",
        "from sklearn.metrics import classification_report, confusion_matrix\n",
        "#Confution Matrix and Classification Report\n",
        "\n",
        "target_names = []\n",
        "\n",
        "for key in test_set.class_indices:\n",
        "\n",
        "    target_names.append(key)\n",
        "\n",
        "Y_pred = cnn.predict_generator(test_set)\n",
        "\n",
        "y_pred = np.argmax(Y_pred, axis=1)\n",
        "\n",
        "print('Confusion Matrix')\n",
        "\n",
        "cm = confusion_matrix(test_set.classes, y_pred)\n",
        "\n",
        "plot_confusion_matrix(cm, target_names, title='Confusion Matrix')"
      ]
    },
    {
      "cell_type": "code",
      "execution_count": null,
      "metadata": {
        "id": "YxCYL1NKvcdi",
        "outputId": "d5b2af0e-1f63-4cca-8b9e-adcb332d4b99"
      },
      "outputs": [
        {
          "name": "stdout",
          "output_type": "stream",
          "text": [
            "WARNING:tensorflow:Your input ran out of data; interrupting training. Make sure that your dataset or generator can generate at least `steps_per_epoch * epochs` batches (in this case, 32 batches). You may need to use the repeat() function when building your dataset.\n",
            "[INFO] accuracy: 90.70%\n",
            "[INFO] Loss:  0.35795214772224426\n"
          ]
        }
      ],
      "source": [
        "test_score = cnn.evaluate_generator(test_set, 32)\n",
        "\n",
        "\n",
        "\n",
        "print(\"[INFO] accuracy: {:.2f}%\".format(test_score[1] * 100)) \n",
        "\n",
        "print(\"[INFO] Loss: \",test_score[0])"
      ]
    },
    {
      "cell_type": "code",
      "execution_count": null,
      "metadata": {
        "id": "eCNpC23ivcdi"
      },
      "outputs": [],
      "source": []
    }
  ],
  "metadata": {
    "kernelspec": {
      "display_name": "Python 3",
      "language": "python",
      "name": "python3"
    },
    "language_info": {
      "codemirror_mode": {
        "name": "ipython",
        "version": 3
      },
      "file_extension": ".py",
      "mimetype": "text/x-python",
      "name": "python",
      "nbconvert_exporter": "python",
      "pygments_lexer": "ipython3",
      "version": "3.8.5"
    },
    "colab": {
      "provenance": []
    }
  },
  "nbformat": 4,
  "nbformat_minor": 0
}